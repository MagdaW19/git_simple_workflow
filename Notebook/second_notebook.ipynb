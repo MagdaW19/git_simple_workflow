{
    "cells": [
        {
            "cell_type": "code",
            "execution_count": null,
            "metadata": {},
            "outputs": [],
            "source": [
                "\"\"\"Notebook to read iris data and describe stats\"\"\""
            ]
        },
        {
            "cell_type": "code",
            "execution_count": null,
            "metadata": {},
            "outputs": [],
            "source": [
                "import numpy as np\n",
                "import pandas as pd\n",
                "from sklearn import datasets"
            ]
        },
        {
            "cell_type": "code",
            "execution_count": null,
            "metadata": {},
            "outputs": [],
            "source": [
                "def deduplicate_hash(markdown):\n",
                "    \"\"\"Deduplicate # symbol in markdown \"\"\"\n",
                "    return markdown.replace('#', '').replace('\\n', '\\n#')"
            ]
        },
        {
            "cell_type": "code",
            "execution_count": null,
            "metadata": {},
            "outputs": [],
            "source": [
                "dataset = datasets.load_iris()\n",
                "df_data = pd.DataFrame(data=np.c_[dataset['data'], dataset['target']],\n",
                "                       columns=dataset['feature_names'] + ['target'])"
            ]
        },
        {
            "cell_type": "code",
            "execution_count": null,
            "metadata": {},
            "outputs": [],
            "source": [
                "df_data.describe()"
            ]
        }
    ],
    "metadata": {},
    "nbformat": 4,
    "nbformat_minor": 2
}