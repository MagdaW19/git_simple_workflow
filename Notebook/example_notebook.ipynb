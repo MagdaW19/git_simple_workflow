{
    "cells": [
        {
            "attachments": {},
            "cell_type": "markdown",
            "metadata": {},
            "source": [
                "## Some Important Markdown"
            ]
        },
        {
            "cell_type": "code",
            "execution_count": null,
            "metadata": {},
            "outputs": [],
            "source": [
                "\"\"\"Notebook for loading iris dataset \"\"\""
            ]
        },
        {
            "cell_type": "code",
            "execution_count": null,
            "metadata": {},
            "outputs": [],
            "source": [
                "import numpy as np\n",
                "import pandas as pd\n",
                "from sklearn import datasets"
            ]
        },
        {
            "attachments": {},
            "cell_type": "markdown",
            "metadata": {},
            "source": [
                "### Less important markdown\n",
                "### That uses two cells"
            ]
        },
        {
            "cell_type": "code",
            "execution_count": null,
            "metadata": {},
            "outputs": [],
            "source": [
                "iris = datasets.load_iris()\n",
                "df_iris = pd.DataFrame(data=np.c_[iris['data'], iris['target']],\n",
                "                       columns=iris['feature_names'] + ['target'])"
            ]
        },
        {
            "cell_type": "code",
            "execution_count": null,
            "metadata": {},
            "outputs": [],
            "source": [
                "df_iris.head(10)"
            ]
        }
    ],
    "metadata": {
        "kernelspec": {
            "display_name": "git_actions_test",
            "language": "python",
            "name": "python3"
        },
        "language_info": {
            "name": "python",
            "version": "3.8.15 (default, Nov 24 2022, 14:38:14) [MSC v.1916 64 bit (AMD64)]"
        },
        "vscode": {
            "interpreter": {
                "hash": "ab4fbbfcd1939d1b344d836b0becd1f67a8593bc9d4532b6faea62e8b35aa621"
            }
        }
    },
    "nbformat": 4,
    "nbformat_minor": 2
}
