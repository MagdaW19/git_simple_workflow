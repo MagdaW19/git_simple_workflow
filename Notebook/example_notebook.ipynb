{
    "cells": [
        {
            "attachments": {},
            "cell_type": "markdown",
            "metadata": {},
            "source": [
                "## Some Important Markdown"
            ]
        },
        {
            "cell_type": "code",
            "execution_count": null,
            "metadata": {},
            "outputs": [],
            "source": [
                "\"\"\"Notebook for loading iris dataset \"\"\""
            ]
        },
        {
            "cell_type": "code",
            "execution_count": null,
            "metadata": {},
            "outputs": [],
            "source": [
                "import numpy as np\n",
                "import pandas as pd\n",
                "from sklearn import datasets"
            ]
        },
        {
            "attachments": {},
            "cell_type": "markdown",
            "metadata": {},
            "source": [
                "### Less important markdown\n",
                "### That uses two cells"
            ]
        },
        {
            "cell_type": "code",
            "execution_count": null,
            "metadata": {},
            "outputs": [],
            "source": [
                "def read_sk_dataset(loaded_dataset):\n",
                "    \"\"\"Read dataset from sk datasets module and return dataframe.\n",
                "\n",
                "    Parameters\n",
                "    ----------\n",
                "    loaded_dataset : sklearn.utils._bunch.Bunch\n",
                "        dataset loaded from sklearn.datasets, e.g. datasets.load_iris()\n",
                "    \"\"\"\n",
                "    joined_data = np.c_[loaded_dataset['data'], loaded_dataset['target']]\n",
                "    joined_cols = loaded_dataset['feature_names'] + ['target']\n",
                "    df_data = pd.DataFrame(data=joined_data,\n",
                "                           columns=joined_cols)\n",
                "    return df_data"
            ]
        },
        {
            "cell_type": "code",
            "execution_count": null,
            "metadata": {},
            "outputs": [],
            "source": [
                "new_dataset = datasets.load_iris()\n",
                "df_iris = read_sk_dataset(new_dataset)"
            ]
        },
        {
            "cell_type": "code",
            "execution_count": null,
            "metadata": {},
            "outputs": [],
            "source": [
                "# df_iris.shape"
            ]
        },
        {
            "cell_type": "code",
            "execution_count": null,
            "metadata": {},
            "outputs": [],
            "source": [
                "df_iris.head(10)"
            ]
        }
    ],
    "metadata": {
        "kernelspec": {
            "display_name": "git_actions_test",
            "language": "python",
            "name": "python3"
        },
        "language_info": {
            "name": "python",
            "version": "3.8.15 (default, Nov 24 2022, 14:38:14) [MSC v.1916 64 bit (AMD64)]"
        },
        "vscode": {
            "interpreter": {
                "hash": "ab4fbbfcd1939d1b344d836b0becd1f67a8593bc9d4532b6faea62e8b35aa621"
            }
        }
    },
    "nbformat": 4,
    "nbformat_minor": 2
}
