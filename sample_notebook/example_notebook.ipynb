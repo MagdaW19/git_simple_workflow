{
    "cells": [
        {
            "cell_type": "code",
            "execution_count": 1,
            "metadata": {},
            "outputs": [],
            "source": [
                "import numpy as np \n",
                "import pandas as pd\n",
                "from sklearn import datasets"
            ]
        },
        {
            "cell_type": "code",
            "execution_count": 2,
            "metadata": {},
            "outputs": [],
            "source": [
                "iris = datasets.load_iris()\n",
                "df_iris = pd.DataFrame(data= np.c_[iris['data'], iris['target']],\n",
                "                     columns= iris['feature_names'] + ['target'])\n"
            ]
        },
        {
            "cell_type": "code",
            "execution_count": null,
            "metadata": {},
            "outputs": [
                {
                    "data": {
                        "text/html": [
                            "<div>\n",
                            "<style scoped>\n",
                            "    .dataframe tbody tr th:only-of-type {\n",
                            "        vertical-align: middle;\n",
                            "    }\n",
                            "\n",
                            "    .dataframe tbody tr th {\n",
                            "        vertical-align: top;\n",
                            "    }\n",
                            "\n",
                            "    .dataframe thead th {\n",
                            "        text-align: right;\n",
                            "    }\n",
                            "</style>\n",
                            "<table border=\"1\" class=\"dataframe\">\n",
                            "  <thead>\n",
                            "    <tr style=\"text-align: right;\">\n",
                            "      <th></th>\n",
                            "      <th>sepal length (cm)</th>\n",
                            "      <th>sepal width (cm)</th>\n",
                            "      <th>petal length (cm)</th>\n",
                            "      <th>petal width (cm)</th>\n",
                            "      <th>target</th>\n",
                            "    </tr>\n",
                            "  </thead>\n",
                            "  <tbody>\n",
                            "    <tr>\n",
                            "      <th>0</th>\n",
                            "      <td>5.1</td>\n",
                            "      <td>3.5</td>\n",
                            "      <td>1.4</td>\n",
                            "      <td>0.2</td>\n",
                            "      <td>0.0</td>\n",
                            "    </tr>\n",
                            "    <tr>\n",
                            "      <th>1</th>\n",
                            "      <td>4.9</td>\n",
                            "      <td>3.0</td>\n",
                            "      <td>1.4</td>\n",
                            "      <td>0.2</td>\n",
                            "      <td>0.0</td>\n",
                            "    </tr>\n",
                            "    <tr>\n",
                            "      <th>2</th>\n",
                            "      <td>4.7</td>\n",
                            "      <td>3.2</td>\n",
                            "      <td>1.3</td>\n",
                            "      <td>0.2</td>\n",
                            "      <td>0.0</td>\n",
                            "    </tr>\n",
                            "    <tr>\n",
                            "      <th>3</th>\n",
                            "      <td>4.6</td>\n",
                            "      <td>3.1</td>\n",
                            "      <td>1.5</td>\n",
                            "      <td>0.2</td>\n",
                            "      <td>0.0</td>\n",
                            "    </tr>\n",
                            "    <tr>\n",
                            "      <th>4</th>\n",
                            "      <td>5.0</td>\n",
                            "      <td>3.6</td>\n",
                            "      <td>1.4</td>\n",
                            "      <td>0.2</td>\n",
                            "      <td>0.0</td>\n",
                            "    </tr>\n",
                            "    <tr>\n",
                            "      <th>5</th>\n",
                            "      <td>5.4</td>\n",
                            "      <td>3.9</td>\n",
                            "      <td>1.7</td>\n",
                            "      <td>0.4</td>\n",
                            "      <td>0.0</td>\n",
                            "    </tr>\n",
                            "    <tr>\n",
                            "      <th>6</th>\n",
                            "      <td>4.6</td>\n",
                            "      <td>3.4</td>\n",
                            "      <td>1.4</td>\n",
                            "      <td>0.3</td>\n",
                            "      <td>0.0</td>\n",
                            "    </tr>\n",
                            "    <tr>\n",
                            "      <th>7</th>\n",
                            "      <td>5.0</td>\n",
                            "      <td>3.4</td>\n",
                            "      <td>1.5</td>\n",
                            "      <td>0.2</td>\n",
                            "      <td>0.0</td>\n",
                            "    </tr>\n",
                            "    <tr>\n",
                            "      <th>8</th>\n",
                            "      <td>4.4</td>\n",
                            "      <td>2.9</td>\n",
                            "      <td>1.4</td>\n",
                            "      <td>0.2</td>\n",
                            "      <td>0.0</td>\n",
                            "    </tr>\n",
                            "    <tr>\n",
                            "      <th>9</th>\n",
                            "      <td>4.9</td>\n",
                            "      <td>3.1</td>\n",
                            "      <td>1.5</td>\n",
                            "      <td>0.1</td>\n",
                            "      <td>0.0</td>\n",
                            "    </tr>\n",
                            "  </tbody>\n",
                            "</table>\n",
                            "</div>"
                        ],
                        "text/plain": [
                            "   sepal length (cm)  sepal width (cm)  petal length (cm)  petal width (cm)  \\\n",
                            "0                5.1               3.5                1.4               0.2   \n",
                            "1                4.9               3.0                1.4               0.2   \n",
                            "2                4.7               3.2                1.3               0.2   \n",
                            "3                4.6               3.1                1.5               0.2   \n",
                            "4                5.0               3.6                1.4               0.2   \n",
                            "5                5.4               3.9                1.7               0.4   \n",
                            "6                4.6               3.4                1.4               0.3   \n",
                            "7                5.0               3.4                1.5               0.2   \n",
                            "8                4.4               2.9                1.4               0.2   \n",
                            "9                4.9               3.1                1.5               0.1   \n",
                            "\n",
                            "   target  \n",
                            "0     0.0  \n",
                            "1     0.0  \n",
                            "2     0.0  \n",
                            "3     0.0  \n",
                            "4     0.0  \n",
                            "5     0.0  \n",
                            "6     0.0  \n",
                            "7     0.0  \n",
                            "8     0.0  \n",
                            "9     0.0  "
                        ]
                    },
                    "execution_count": 3,
                    "metadata": {},
                    "output_type": "execute_result"
                }
            ],
            "source": [
                "df_iris.head(10)"
            ]
        },
        {
            "cell_type": "code",
            "execution_count": 4,
            "metadata": {},
            "outputs": [
                {
                    "name": "stdout",
                    "output_type": "stream",
                    "text": [
                        "notebook\n"
                    ]
                }
            ],
            "source": [
                "print('notebook')"
            ]
        }
    ],
    "metadata": {
        "kernelspec": {
            "display_name": "git_actions_test",
            "language": "python",
            "name": "python3"
        },
        "language_info": {
            "codemirror_mode": {
                "name": "ipython",
                "version": 3
            },
            "file_extension": ".py",
            "mimetype": "text/x-python",
            "name": "python",
            "nbconvert_exporter": "python",
            "pygments_lexer": "ipython3",
            "version": "3.8.15"
        },
        "orig_nbformat": 4,
        "vscode": {
            "interpreter": {
                "hash": "ab4fbbfcd1939d1b344d836b0becd1f67a8593bc9d4532b6faea62e8b35aa621"
            }
        }
    },
    "nbformat": 4,
    "nbformat_minor": 2
}
